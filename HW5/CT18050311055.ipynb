{
  "nbformat": 4,
  "nbformat_minor": 0,
  "metadata": {
    "colab": {
      "provenance": []
    },
    "kernelspec": {
      "name": "python3",
      "display_name": "Python 3"
    },
    "language_info": {
      "name": "python"
    }
  },
  "cells": [
    {
      "cell_type": "markdown",
      "source": [
        "18050311055 Cengizhan Toksarı"
      ],
      "metadata": {
        "id": "O4JRiJ33osai"
      }
    },
    {
      "cell_type": "code",
      "execution_count": 39,
      "metadata": {
        "id": "I4BWYKpoBeWb"
      },
      "outputs": [],
      "source": [
        "import pandas as pd\n",
        "import numpy as np\n",
        "from sklearn.datasets import load_iris\n",
        "from sklearn.neighbors import KNeighborsClassifier\n",
        "from sklearn.model_selection import train_test_split\n",
        "from sklearn import metrics\n",
        "import matplotlib.pyplot as plt\n",
        "%matplotlib inline\n",
        "from sklearn.model_selection import cross_validate\n",
        "from sklearn.model_selection import cross_val_score\n",
        "\n"
      ]
    },
    {
      "cell_type": "code",
      "source": [
        "# Loading the iris dataset from scikit\n",
        "iris = load_iris()"
      ],
      "metadata": {
        "id": "xIoZQH-O3OCk"
      },
      "execution_count": 40,
      "outputs": []
    },
    {
      "cell_type": "code",
      "source": [
        "# Placing iris dataset to a pandas dataframe\n",
        "df = pd.DataFrame(data= np.c_[iris['data'], iris['target']], columns= iris['feature_names'] + ['target'])\n"
      ],
      "metadata": {
        "id": "ONury36_3T0_"
      },
      "execution_count": 41,
      "outputs": []
    },
    {
      "cell_type": "markdown",
      "source": [
        "Implementation of FFS."
      ],
      "metadata": {
        "id": "19TmACirhwtE"
      }
    },
    {
      "cell_type": "code",
      "source": [
        "ar2 = dict()\n",
        "candidates = []\n",
        "features = []\n",
        "last_max = -1\n",
        "max_ar2 = 0\n",
        "\n",
        "y = 'target'\n",
        "\n",
        "knn = KNeighborsClassifier(n_neighbors = 1)\n",
        "\n",
        "while(True):\n",
        "\n",
        "  for x in df.drop([y] + candidates, axis=1).columns:\n",
        "\n",
        "    if len(candidates) == 0:\n",
        "      features = []\n",
        "      features.append(x)\n",
        "    else:\n",
        "      features = []\n",
        "      features.append(x)\n",
        "      features += candidates\n",
        "\n",
        "    cv_scores = cross_val_score(knn, df[features], df[[y]].values.ravel(), cv=5)\n",
        "    ar2[x] = np.mean(cv_scores)\n",
        "\n",
        "    \n",
        "  max_ar2 =  max(ar2.values())\n",
        "  max_ar2_key = max(ar2, key=ar2.get)\n",
        "    \n",
        "  if max_ar2 > last_max:\n",
        "    candidates.append(max_ar2_key)\n",
        "    last_max = max_ar2\n",
        "\n",
        "    print('step: ' + str(len(candidates)))\n",
        "    print(candidates)\n",
        "    print('Mean Cross Validation Score: ' + str(max_ar2))\n",
        "    print('===============')\n",
        "  else:\n",
        "    break\n",
        "\n",
        "print('\\n\\n')\n",
        "print('elminated variables: ')\n",
        "print(set(df.drop(y, axis=1).columns).difference(candidates))\n",
        "print('\\n\\n')\n",
        "print(\"selected variables: \")\n",
        "print(candidates)"
      ],
      "metadata": {
        "colab": {
          "base_uri": "https://localhost:8080/"
        },
        "id": "DDOv3AEwKCcy",
        "outputId": "c3d1b5e9-42e3-4d47-e63a-69a3a737d188"
      },
      "execution_count": 42,
      "outputs": [
        {
          "output_type": "stream",
          "name": "stdout",
          "text": [
            "step: 1\n",
            "['petal width (cm)']\n",
            "Mean Cross Validation Score: 0.9133333333333333\n",
            "===============\n",
            "step: 2\n",
            "['petal width (cm)', 'petal length (cm)']\n",
            "Mean Cross Validation Score: 0.9666666666666666\n",
            "===============\n",
            "\n",
            "\n",
            "\n",
            "elminated variables: \n",
            "{'sepal length (cm)', 'sepal width (cm)'}\n",
            "\n",
            "\n",
            "\n",
            "selected variables: \n",
            "['petal width (cm)', 'petal length (cm)']\n"
          ]
        }
      ]
    },
    {
      "cell_type": "markdown",
      "source": [
        "From this result our algorithm selected petal width and petal length features for our classifier. This means adding sepal length or sepal width features to our model do not provide better K-fold cross validation score with k=5. "
      ],
      "metadata": {
        "id": "WEbORulBPxMs"
      }
    },
    {
      "cell_type": "markdown",
      "source": [
        "Now to make sure we will manually select and try different combinations to be sure that our code does not give an wrong output."
      ],
      "metadata": {
        "id": "WmwXxg8uQNMg"
      }
    },
    {
      "cell_type": "code",
      "source": [
        "df2 = pd.DataFrame(data= np.c_[iris['data'], iris['target']], columns= iris['feature_names'] + ['target'])\n",
        "\n",
        "knn = KNeighborsClassifier(n_neighbors = 1)\n",
        "\n",
        "\n",
        "cv_scores = cross_val_score(knn,df2[['sepal length (cm)','sepal width (cm)']],df['target'],cv=5)\n",
        "print(np.mean(cv_scores))"
      ],
      "metadata": {
        "colab": {
          "base_uri": "https://localhost:8080/"
        },
        "id": "o2WHfmiaQy80",
        "outputId": "5c75c3e6-cced-4c82-9778-82286987392c"
      },
      "execution_count": 44,
      "outputs": [
        {
          "output_type": "stream",
          "name": "stdout",
          "text": [
            "0.7333333333333332\n"
          ]
        }
      ]
    },
    {
      "cell_type": "code",
      "source": [
        "cv_scores = cross_val_score(knn,df2[['petal length (cm)','sepal width (cm)']],df['target'],cv=5)\n",
        "print(np.mean(cv_scores))"
      ],
      "metadata": {
        "colab": {
          "base_uri": "https://localhost:8080/"
        },
        "id": "BU6cUgRDR6kb",
        "outputId": "834c384a-b6f7-447c-ec8e-9528f212785a"
      },
      "execution_count": 45,
      "outputs": [
        {
          "output_type": "stream",
          "name": "stdout",
          "text": [
            "0.9\n"
          ]
        }
      ]
    },
    {
      "cell_type": "code",
      "source": [
        "cv_scores = cross_val_score(knn,df2[['petal length (cm)','sepal width (cm)','petal width (cm)']],df['target'],cv=5)\n",
        "print(np.mean(cv_scores))"
      ],
      "metadata": {
        "colab": {
          "base_uri": "https://localhost:8080/"
        },
        "id": "APOcNAJRUBpm",
        "outputId": "49aae1d4-1d8a-4bbe-de08-a77584055600"
      },
      "execution_count": 46,
      "outputs": [
        {
          "output_type": "stream",
          "name": "stdout",
          "text": [
            "0.9533333333333334\n"
          ]
        }
      ]
    },
    {
      "cell_type": "code",
      "source": [
        "cv_scores = cross_val_score(knn,df2[['petal width (cm)']],df[['target']].values.ravel(),cv=5)\n",
        "print(np.mean(cv_scores))"
      ],
      "metadata": {
        "colab": {
          "base_uri": "https://localhost:8080/"
        },
        "id": "nooX14ipWkTS",
        "outputId": "c88955e5-5c66-44b0-9a8a-542aa4895e30"
      },
      "execution_count": 47,
      "outputs": [
        {
          "output_type": "stream",
          "name": "stdout",
          "text": [
            "0.9133333333333333\n"
          ]
        }
      ]
    },
    {
      "cell_type": "markdown",
      "source": [
        "Question 3"
      ],
      "metadata": {
        "id": "rd3ETKMqMu5_"
      }
    },
    {
      "cell_type": "code",
      "source": [
        "df2 = pd.DataFrame(data= np.c_[iris['data'], iris['target']], columns= iris['feature_names'] + ['target'])\n",
        "columns= iris['feature_names']\n",
        "knn = KNeighborsClassifier(n_neighbors = 1)\n",
        "list_score=[]\n",
        "\n",
        "\n",
        "for i in columns:\n",
        "  for j in columns:\n",
        "    if i!=j :\n",
        "        cv_scores = cross_val_score(knn,df2[[i,j]],df['target'],cv=5)\n",
        "        list_score.append(np.mean(cv_scores))\n",
        "        print(f\"features1 :{i} , features2: {j} score :{np.mean(cv_scores)}\")\n",
        "\n"
      ],
      "metadata": {
        "colab": {
          "base_uri": "https://localhost:8080/"
        },
        "id": "aB1VsE61MtoD",
        "outputId": "4b67b38d-2205-498d-b2a1-8956b7e06731"
      },
      "execution_count": 52,
      "outputs": [
        {
          "output_type": "stream",
          "name": "stdout",
          "text": [
            "features1 :sepal length (cm) , features2: sepal width (cm) score :0.7333333333333332\n",
            "features1 :sepal length (cm) , features2: petal length (cm) score :0.9133333333333333\n",
            "features1 :sepal length (cm) , features2: petal width (cm) score :0.9199999999999999\n",
            "features1 :sepal width (cm) , features2: sepal length (cm) score :0.7333333333333332\n",
            "features1 :sepal width (cm) , features2: petal length (cm) score :0.9\n",
            "features1 :sepal width (cm) , features2: petal width (cm) score :0.9400000000000001\n",
            "features1 :petal length (cm) , features2: sepal length (cm) score :0.9133333333333333\n",
            "features1 :petal length (cm) , features2: sepal width (cm) score :0.9\n",
            "features1 :petal length (cm) , features2: petal width (cm) score :0.9666666666666666\n",
            "features1 :petal width (cm) , features2: sepal length (cm) score :0.9199999999999999\n",
            "features1 :petal width (cm) , features2: sepal width (cm) score :0.9400000000000001\n",
            "features1 :petal width (cm) , features2: petal length (cm) score :0.9666666666666666\n"
          ]
        }
      ]
    },
    {
      "cell_type": "markdown",
      "source": [
        "![image.png](data:image/png;base64,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)"
      ],
      "metadata": {
        "id": "m1BFB-UbMzB4"
      }
    },
    {
      "cell_type": "markdown",
      "source": [
        "Question 4 \n",
        "\n",
        "For this example in first step we would have to manually calculate 4 features and select the best,\n",
        "and then in second step i would have to to manually make 3 calculations and so on.\n",
        "\n",
        "Maybe for a dataset with 4 features this can be done but for a larger dataset it would be a very big waste of time. \n",
        "\n",
        "Also making any changes would mean doing everything from scratch, For example for finding best accurate model we used K-Fold cross validation, and we can easily change this method now."
      ],
      "metadata": {
        "id": "TL1NWceTiuME"
      }
    },
    {
      "cell_type": "markdown",
      "source": [
        "FFS vs Bruteforce\n",
        "\n",
        "In FFS we can train at most 4+3+2+1 = 10 models but we can stop before going through each step with FFS. In this homework FFS stopped at step3 which means 9 calculations.\n",
        "\n",
        "With bruteforce we have to calculate all posibilities and then compare. Which means waste of computation time and resources.\n",
        "\n",
        "In a dataset with around 10 features this difference can go up to 30 40 times of fitting and evalutiang the model unnecessarily, and creates a meaningful difference."
      ],
      "metadata": {
        "id": "wJNPUwVFlu30"
      }
    }
  ]
}