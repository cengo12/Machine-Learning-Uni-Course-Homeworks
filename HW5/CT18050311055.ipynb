{
  "nbformat": 4,
  "nbformat_minor": 0,
  "metadata": {
    "colab": {
      "provenance": []
    },
    "kernelspec": {
      "name": "python3",
      "display_name": "Python 3"
    },
    "language_info": {
      "name": "python"
    }
  },
  "cells": [
    {
      "cell_type": "markdown",
      "source": [
        "18050311055 Cengizhan Toksarı"
      ],
      "metadata": {
        "id": "O4JRiJ33osai"
      }
    },
    {
      "cell_type": "code",
      "execution_count": 520,
      "metadata": {
        "id": "I4BWYKpoBeWb"
      },
      "outputs": [],
      "source": [
        "import pandas as pd\n",
        "import numpy as np\n",
        "from sklearn.datasets import load_iris\n",
        "from sklearn.neighbors import KNeighborsClassifier\n",
        "from sklearn.model_selection import train_test_split\n",
        "from sklearn import metrics\n",
        "import matplotlib.pyplot as plt\n",
        "%matplotlib inline\n",
        "from sklearn.model_selection import cross_validate\n",
        "from sklearn.model_selection import cross_val_score\n",
        "\n"
      ]
    },
    {
      "cell_type": "code",
      "source": [
        "# Loading the iris dataset from scikit\n",
        "iris = load_iris()"
      ],
      "metadata": {
        "id": "xIoZQH-O3OCk"
      },
      "execution_count": 521,
      "outputs": []
    },
    {
      "cell_type": "code",
      "source": [
        "# Placing iris dataset to a pandas dataframe\n",
        "df = pd.DataFrame(data= np.c_[iris['data'], iris['target']], columns= iris['feature_names'] + ['target'])\n"
      ],
      "metadata": {
        "id": "ONury36_3T0_"
      },
      "execution_count": 522,
      "outputs": []
    },
    {
      "cell_type": "markdown",
      "source": [
        "Implementation of FFS."
      ],
      "metadata": {
        "id": "19TmACirhwtE"
      }
    },
    {
      "cell_type": "code",
      "source": [
        "ar2 = dict()\n",
        "candidates = []\n",
        "features = []\n",
        "last_max = -1\n",
        "max_ar2 = 0\n",
        "\n",
        "y = 'target'\n",
        "\n",
        "knn = KNeighborsClassifier(n_neighbors = 1)\n",
        "\n",
        "while(True):\n",
        "\n",
        "  for x in df.drop([y] + candidates, axis=1).columns:\n",
        "\n",
        "    if len(candidates) == 0:\n",
        "      features = []\n",
        "      features.append(x)\n",
        "    else:\n",
        "      features = []\n",
        "      features.append(x)\n",
        "      features += candidates\n",
        "\n",
        "    cv_scores = cross_val_score(knn, df[features], df[[y]].values.ravel(), cv=5)\n",
        "    ar2[x] = np.mean(cv_scores)\n",
        "\n",
        "    \n",
        "  max_ar2 =  max(ar2.values())\n",
        "  max_ar2_key = max(ar2, key=ar2.get)\n",
        "    \n",
        "  if max_ar2 > last_max:\n",
        "    candidates.append(max_ar2_key)\n",
        "    last_max = max_ar2\n",
        "\n",
        "    print('step: ' + str(len(candidates)))\n",
        "    print(candidates)\n",
        "    print('Mean Cross Validation Score: ' + str(max_ar2))\n",
        "    print('===============')\n",
        "  else:\n",
        "    break\n",
        "\n",
        "print('\\n\\n')\n",
        "print('elminated variables: ')\n",
        "print(set(df.drop(y, axis=1).columns).difference(candidates))\n",
        "print('\\n\\n')\n",
        "print(\"selected variables: \")\n",
        "print(candidates)"
      ],
      "metadata": {
        "colab": {
          "base_uri": "https://localhost:8080/"
        },
        "id": "DDOv3AEwKCcy",
        "outputId": "66bcd527-43d6-4067-e96d-9d470d7a64b0"
      },
      "execution_count": 528,
      "outputs": [
        {
          "output_type": "stream",
          "name": "stdout",
          "text": [
            "step: 1\n",
            "['petal width (cm)']\n",
            "Mean Cross Validation Score: 0.9133333333333333\n",
            "===============\n",
            "step: 2\n",
            "['petal width (cm)', 'petal length (cm)']\n",
            "Mean Cross Validation Score: 0.9666666666666666\n",
            "===============\n",
            "\n",
            "\n",
            "\n",
            "elminated variables: \n",
            "{'sepal length (cm)', 'sepal width (cm)'}\n",
            "\n",
            "\n",
            "\n",
            "selected variables: \n",
            "['petal width (cm)', 'petal length (cm)']\n"
          ]
        }
      ]
    },
    {
      "cell_type": "markdown",
      "source": [
        "From this result our algorithm selected petal width and petal length features for our classifier. This means adding sepal length or sepal width features to our model do not provide better K-fold cross validation score with k=5. "
      ],
      "metadata": {
        "id": "WEbORulBPxMs"
      }
    },
    {
      "cell_type": "markdown",
      "source": [
        "Now to make sure we will manually select and try different combinations to be sure that our code does not give an wrong output."
      ],
      "metadata": {
        "id": "WmwXxg8uQNMg"
      }
    },
    {
      "cell_type": "code",
      "source": [
        "df2 = pd.DataFrame(data= np.c_[iris['data'], iris['target']], columns= iris['feature_names'] + ['target'])\n",
        "\n",
        "knn = KNeighborsClassifier(n_neighbors = 1)\n",
        "\n",
        "\n",
        "cv_scores = cross_val_score(knn,df2[['sepal length (cm)','sepal width (cm)']],df['target'],cv=5)\n",
        "print(np.mean(cv_scores))"
      ],
      "metadata": {
        "colab": {
          "base_uri": "https://localhost:8080/"
        },
        "id": "o2WHfmiaQy80",
        "outputId": "48599656-718f-4e00-a983-d2c246c669b8"
      },
      "execution_count": 524,
      "outputs": [
        {
          "output_type": "stream",
          "name": "stdout",
          "text": [
            "0.7333333333333332\n"
          ]
        }
      ]
    },
    {
      "cell_type": "code",
      "source": [
        "cv_scores = cross_val_score(knn,df2[['petal length (cm)','sepal width (cm)']],df['target'],cv=5)\n",
        "print(np.mean(cv_scores))"
      ],
      "metadata": {
        "colab": {
          "base_uri": "https://localhost:8080/"
        },
        "id": "BU6cUgRDR6kb",
        "outputId": "6a2651ec-fb8f-4504-ce41-c9a32953fc89"
      },
      "execution_count": 525,
      "outputs": [
        {
          "output_type": "stream",
          "name": "stdout",
          "text": [
            "0.9\n"
          ]
        }
      ]
    },
    {
      "cell_type": "code",
      "source": [
        "cv_scores = cross_val_score(knn,df2[['petal length (cm)','sepal width (cm)','petal width (cm)']],df['target'],cv=5)\n",
        "print(np.mean(cv_scores))"
      ],
      "metadata": {
        "colab": {
          "base_uri": "https://localhost:8080/"
        },
        "id": "APOcNAJRUBpm",
        "outputId": "224b1d6e-7368-489a-f836-2645991f1078"
      },
      "execution_count": 526,
      "outputs": [
        {
          "output_type": "stream",
          "name": "stdout",
          "text": [
            "0.9533333333333334\n"
          ]
        }
      ]
    },
    {
      "cell_type": "code",
      "source": [
        "cv_scores = cross_val_score(knn,df2[['petal width (cm)']],df[['target']].values.ravel(),cv=5)\n",
        "print(np.mean(cv_scores))"
      ],
      "metadata": {
        "colab": {
          "base_uri": "https://localhost:8080/"
        },
        "id": "nooX14ipWkTS",
        "outputId": "490d419a-14e9-42e1-e81b-7e77bf36ac8d"
      },
      "execution_count": 527,
      "outputs": [
        {
          "output_type": "stream",
          "name": "stdout",
          "text": [
            "0.9133333333333333\n"
          ]
        }
      ]
    },
    {
      "cell_type": "markdown",
      "source": [
        "Question 4 \n",
        "\n",
        "For this example in first step we would have to manually calculate 4 features and select the best,\n",
        "and then in second step i would have to to manually make 3 calculations and so on.\n",
        "\n",
        "Maybe for a dataset with 4 features this can be done but for a larger dataset it would be a very big waste of time. \n",
        "\n",
        "Also making any changes would mean doing everything from scratch, For example for finding best accurate model we used K-Fold cross validation, and we can easily change this method now."
      ],
      "metadata": {
        "id": "TL1NWceTiuME"
      }
    },
    {
      "cell_type": "markdown",
      "source": [
        "FFS vs Bruteforce\n",
        "\n",
        "In FFS we can train at most 4+3+2+1 = 10 models but we can stop before going through each step with FFS. In this homework FFS stopped at step3 which means 9 calculations.\n",
        "\n",
        "With bruteforce we have to calculate all posibilities and then compare. Which means waste of computation time and resources.\n",
        "\n",
        "In a dataset with around 10 features this difference can go up to 30 40 times of fitting and evalutiang the model unnecessarily, and creates a meaningful difference."
      ],
      "metadata": {
        "id": "wJNPUwVFlu30"
      }
    }
  ]
}